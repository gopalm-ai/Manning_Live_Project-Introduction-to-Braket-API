{
  "cells": [
    {
      "cell_type": "markdown",
      "metadata": {
        "id": "view-in-github",
        "colab_type": "text"
      },
      "source": [
        "<a href=\"https://colab.research.google.com/github/gopalm-ai/Manning_Live_Project-Introduction-to-Braket-API/blob/main/Full_Oracle.ipynb\" target=\"_parent\"><img src=\"https://colab.research.google.com/assets/colab-badge.svg\" alt=\"Open In Colab\"/></a>"
      ]
    },
    {
      "cell_type": "code",
      "source": [
        "!pip3 install amazon-braket-sdk==1.7.1\n",
        "!pip3 install amazon-braket-default-simulator==1.2.1\n",
        "!pip3 install amazon-braket-schemas==1.2.2"
      ],
      "metadata": {
        "colab": {
          "base_uri": "https://localhost:8080/"
        },
        "id": "K9YSz2ZdeEvp",
        "outputId": "27a3fb40-ae72-452b-be4a-64586f0e82aa"
      },
      "id": "K9YSz2ZdeEvp",
      "execution_count": null,
      "outputs": [
        {
          "output_type": "stream",
          "name": "stdout",
          "text": [
            "Looking in indexes: https://pypi.org/simple, https://us-python.pkg.dev/colab-wheels/public/simple/\n",
            "Requirement already satisfied: amazon-braket-sdk==1.7.1 in /usr/local/lib/python3.7/dist-packages (1.7.1)\n",
            "Requirement already satisfied: boto3 in /usr/local/lib/python3.7/dist-packages (from amazon-braket-sdk==1.7.1) (1.24.56)\n",
            "Requirement already satisfied: nest-asyncio in /usr/local/lib/python3.7/dist-packages (from amazon-braket-sdk==1.7.1) (1.5.5)\n",
            "Requirement already satisfied: amazon-braket-default-simulator in /usr/local/lib/python3.7/dist-packages (from amazon-braket-sdk==1.7.1) (1.2.1)\n",
            "Requirement already satisfied: numpy in /usr/local/lib/python3.7/dist-packages (from amazon-braket-sdk==1.7.1) (1.21.6)\n",
            "Requirement already satisfied: networkx in /usr/local/lib/python3.7/dist-packages (from amazon-braket-sdk==1.7.1) (2.6.3)\n",
            "Requirement already satisfied: boltons in /usr/local/lib/python3.7/dist-packages (from amazon-braket-sdk==1.7.1) (21.0.0)\n",
            "Requirement already satisfied: backoff in /usr/local/lib/python3.7/dist-packages (from amazon-braket-sdk==1.7.1) (2.1.2)\n",
            "Requirement already satisfied: opt-einsum in /usr/local/lib/python3.7/dist-packages (from amazon-braket-default-simulator->amazon-braket-sdk==1.7.1) (3.3.0)\n",
            "Requirement already satisfied: amazon-braket-schemas in /usr/local/lib/python3.7/dist-packages (from amazon-braket-default-simulator->amazon-braket-sdk==1.7.1) (1.2.2)\n",
            "Requirement already satisfied: pydantic in /usr/local/lib/python3.7/dist-packages (from amazon-braket-schemas->amazon-braket-default-simulator->amazon-braket-sdk==1.7.1) (1.9.2)\n",
            "Requirement already satisfied: botocore<1.28.0,>=1.27.56 in /usr/local/lib/python3.7/dist-packages (from boto3->amazon-braket-sdk==1.7.1) (1.27.56)\n",
            "Requirement already satisfied: s3transfer<0.7.0,>=0.6.0 in /usr/local/lib/python3.7/dist-packages (from boto3->amazon-braket-sdk==1.7.1) (0.6.0)\n",
            "Requirement already satisfied: jmespath<2.0.0,>=0.7.1 in /usr/local/lib/python3.7/dist-packages (from boto3->amazon-braket-sdk==1.7.1) (1.0.1)\n",
            "Requirement already satisfied: urllib3<1.27,>=1.25.4 in /usr/local/lib/python3.7/dist-packages (from botocore<1.28.0,>=1.27.56->boto3->amazon-braket-sdk==1.7.1) (1.26.11)\n",
            "Requirement already satisfied: python-dateutil<3.0.0,>=2.1 in /usr/local/lib/python3.7/dist-packages (from botocore<1.28.0,>=1.27.56->boto3->amazon-braket-sdk==1.7.1) (2.8.2)\n",
            "Requirement already satisfied: six>=1.5 in /usr/local/lib/python3.7/dist-packages (from python-dateutil<3.0.0,>=2.1->botocore<1.28.0,>=1.27.56->boto3->amazon-braket-sdk==1.7.1) (1.15.0)\n",
            "Requirement already satisfied: typing-extensions>=3.7.4.3 in /usr/local/lib/python3.7/dist-packages (from pydantic->amazon-braket-schemas->amazon-braket-default-simulator->amazon-braket-sdk==1.7.1) (4.1.1)\n",
            "Looking in indexes: https://pypi.org/simple, https://us-python.pkg.dev/colab-wheels/public/simple/\n",
            "Requirement already satisfied: amazon-braket-default-simulator==1.2.1 in /usr/local/lib/python3.7/dist-packages (1.2.1)\n",
            "Requirement already satisfied: numpy in /usr/local/lib/python3.7/dist-packages (from amazon-braket-default-simulator==1.2.1) (1.21.6)\n",
            "Requirement already satisfied: opt-einsum in /usr/local/lib/python3.7/dist-packages (from amazon-braket-default-simulator==1.2.1) (3.3.0)\n",
            "Requirement already satisfied: amazon-braket-schemas in /usr/local/lib/python3.7/dist-packages (from amazon-braket-default-simulator==1.2.1) (1.2.2)\n",
            "Requirement already satisfied: pydantic in /usr/local/lib/python3.7/dist-packages (from amazon-braket-schemas->amazon-braket-default-simulator==1.2.1) (1.9.2)\n",
            "Requirement already satisfied: typing-extensions>=3.7.4.3 in /usr/local/lib/python3.7/dist-packages (from pydantic->amazon-braket-schemas->amazon-braket-default-simulator==1.2.1) (4.1.1)\n",
            "Looking in indexes: https://pypi.org/simple, https://us-python.pkg.dev/colab-wheels/public/simple/\n",
            "Requirement already satisfied: amazon-braket-schemas==1.2.2 in /usr/local/lib/python3.7/dist-packages (1.2.2)\n",
            "Requirement already satisfied: pydantic in /usr/local/lib/python3.7/dist-packages (from amazon-braket-schemas==1.2.2) (1.9.2)\n",
            "Requirement already satisfied: typing-extensions>=3.7.4.3 in /usr/local/lib/python3.7/dist-packages (from pydantic->amazon-braket-schemas==1.2.2) (4.1.1)\n"
          ]
        }
      ]
    },
    {
      "cell_type": "markdown",
      "source": [
        "# Imports and Local Simulator"
      ],
      "metadata": {
        "id": "Knw_I1ZaF3Ch"
      },
      "id": "Knw_I1ZaF3Ch"
    },
    {
      "cell_type": "code",
      "source": [
        "import braket._sdk as braket_sdk\n",
        "braket_sdk.__version__"
      ],
      "metadata": {
        "id": "sEXQHNcjFOER",
        "colab": {
          "base_uri": "https://localhost:8080/",
          "height": 35
        },
        "outputId": "00eb5695-9175-4c13-a3c7-be06dea985fc"
      },
      "id": "sEXQHNcjFOER",
      "execution_count": null,
      "outputs": [
        {
          "output_type": "execute_result",
          "data": {
            "text/plain": [
              "'1.7.1'"
            ],
            "application/vnd.google.colaboratory.intrinsic+json": {
              "type": "string"
            }
          },
          "metadata": {},
          "execution_count": 2
        }
      ]
    },
    {
      "cell_type": "code",
      "source": [
        "from braket.devices import LocalSimulator\n",
        "device = LocalSimulator()"
      ],
      "metadata": {
        "id": "tqoLUFaI9I0X"
      },
      "id": "tqoLUFaI9I0X",
      "execution_count": null,
      "outputs": []
    },
    {
      "cell_type": "code",
      "source": [
        "device"
      ],
      "metadata": {
        "colab": {
          "base_uri": "https://localhost:8080/"
        },
        "id": "fCT0slfh9NPU",
        "outputId": "0600f350-73f9-4180-cc76-7a4cea95d7a5"
      },
      "id": "fCT0slfh9NPU",
      "execution_count": null,
      "outputs": [
        {
          "output_type": "execute_result",
          "data": {
            "text/plain": [
              "<braket.devices.local_simulator.LocalSimulator at 0x7fb60c0fd0d0>"
            ]
          },
          "metadata": {},
          "execution_count": 4
        }
      ]
    },
    {
      "cell_type": "code",
      "source": [
        "import boto3\n",
        "from braket.circuits import Circuit, Gate, Observable\n",
        "from braket.aws import AwsDevice\n",
        "import matplotlib.pyplot as plt\n",
        "import seaborn as sns"
      ],
      "metadata": {
        "id": "IZ-f29WAeRPX"
      },
      "id": "IZ-f29WAeRPX",
      "execution_count": null,
      "outputs": []
    },
    {
      "cell_type": "code",
      "source": [
        "import math\n",
        "import cmath\n",
        "import matplotlib.pyplot as plt\n",
        "import numpy as np\n",
        "from numpy import linalg as LA \n",
        "# The linear algebra library in NumPy\n",
        "import functools"
      ],
      "metadata": {
        "id": "RFqb0CDofseu"
      },
      "id": "RFqb0CDofseu",
      "execution_count": null,
      "outputs": []
    },
    {
      "cell_type": "markdown",
      "source": [
        "# Constant Oracle"
      ],
      "metadata": {
        "id": "uNWBlxRUERYk"
      },
      "id": "uNWBlxRUERYk"
    },
    {
      "cell_type": "code",
      "source": [
        "# Set length of n-bit input string\n",
        "n_qubits = 3"
      ],
      "metadata": {
        "id": "LLvZ4bYLKczF"
      },
      "execution_count": null,
      "outputs": [],
      "id": "LLvZ4bYLKczF"
    },
    {
      "cell_type": "code",
      "source": [
        "def get_constant():\n",
        "  c_oracle_circ = Circuit()\n",
        "  output = np.random.randint(2)\n",
        "  for qubit in range(n_qubits+1):\n",
        "    if output == 1:\n",
        "      c_oracle_circ.x(qubit)\n",
        "    else:\n",
        "      c_oracle_circ.i(qubit)\n",
        "  return c_oracle_circ"
      ],
      "metadata": {
        "id": "ldTNkL_CQZAL"
      },
      "id": "ldTNkL_CQZAL",
      "execution_count": null,
      "outputs": []
    },
    {
      "cell_type": "code",
      "source": [
        "constant_oracle = get_constant()\n",
        "print(constant_oracle)"
      ],
      "metadata": {
        "colab": {
          "base_uri": "https://localhost:8080/"
        },
        "id": "fyVl-xSmeoyz",
        "outputId": "949a06c8-b4f1-4f38-a497-e55be1819386"
      },
      "id": "fyVl-xSmeoyz",
      "execution_count": null,
      "outputs": [
        {
          "output_type": "stream",
          "name": "stdout",
          "text": [
            "T  : |0|\n",
            "        \n",
            "q0 : -X-\n",
            "        \n",
            "q1 : -X-\n",
            "        \n",
            "q2 : -X-\n",
            "        \n",
            "q3 : -X-\n",
            "\n",
            "T  : |0|\n"
          ]
        }
      ]
    },
    {
      "cell_type": "markdown",
      "source": [
        "# Balanced Oracle"
      ],
      "metadata": {
        "id": "lZnKGfBMnhR8"
      },
      "id": "lZnKGfBMnhR8"
    },
    {
      "cell_type": "code",
      "source": [
        "def get_balanced():\n",
        "  b_oracle_circ = Circuit()\n",
        "  for qubit in range(n_qubits+1):\n",
        "    b_oracle_circ.cnot(qubit, n_qubits+1)\n",
        "  return b_oracle_circ"
      ],
      "metadata": {
        "id": "blK-loDhQSKG"
      },
      "id": "blK-loDhQSKG",
      "execution_count": null,
      "outputs": []
    },
    {
      "cell_type": "code",
      "source": [
        "balanced_oracle = get_balanced()\n",
        "print(balanced_oracle)"
      ],
      "metadata": {
        "colab": {
          "base_uri": "https://localhost:8080/"
        },
        "id": "5-Qf8-P2SE1k",
        "outputId": "6ecd9e96-5cf1-49d4-82c0-c7d8fedb9e37"
      },
      "id": "5-Qf8-P2SE1k",
      "execution_count": null,
      "outputs": [
        {
          "output_type": "stream",
          "name": "stdout",
          "text": [
            "T  : |0|1|2|\n",
            "            \n",
            "q0 : -C-----\n",
            "      |     \n",
            "q1 : -|-C---\n",
            "      | |   \n",
            "q2 : -|-|-C-\n",
            "      | | | \n",
            "q3 : -X-X-X-\n",
            "\n",
            "T  : |0|1|2|\n"
          ]
        }
      ]
    },
    {
      "cell_type": "markdown",
      "source": [
        "# Full Oracle"
      ],
      "metadata": {
        "id": "5F0JcEGsnkJq"
      },
      "id": "5F0JcEGsnkJq"
    },
    {
      "cell_type": "code",
      "source": [
        "full_oracle = Circuit().x(n_qubits)\n",
        "for qubit in range(n_qubits+1):\n",
        "  full_oracle.h(qubit)\n",
        "print(full_oracle)"
      ],
      "metadata": {
        "id": "rJgI1qROE6WF",
        "colab": {
          "base_uri": "https://localhost:8080/"
        },
        "outputId": "0ae75461-6dc3-4a7b-eeaa-356d3a6702d4"
      },
      "execution_count": null,
      "outputs": [
        {
          "output_type": "stream",
          "name": "stdout",
          "text": [
            "T  : |0|1|\n",
            "          \n",
            "q0 : -H---\n",
            "          \n",
            "q1 : -H---\n",
            "          \n",
            "q2 : -H---\n",
            "          \n",
            "q3 : -X-H-\n",
            "\n",
            "T  : |0|1|\n"
          ]
        }
      ],
      "id": "rJgI1qROE6WF"
    },
    {
      "cell_type": "code",
      "source": [
        "full_oracle.add(constant_oracle)\n",
        "full_oracle.add(balanced_oracle)\n",
        "full_oracle.add(constant_oracle)\n",
        "for qubit in range(n_qubits):\n",
        "  full_oracle.h(qubit)\n",
        "\n",
        "print(full_oracle)"
      ],
      "metadata": {
        "colab": {
          "base_uri": "https://localhost:8080/"
        },
        "id": "UOQsMqLbSE4r",
        "outputId": "c02e7302-bb8b-4297-cf95-3b3dc724e0a2"
      },
      "id": "UOQsMqLbSE4r",
      "execution_count": null,
      "outputs": [
        {
          "output_type": "stream",
          "name": "stdout",
          "text": [
            "T  : |0|1|2|3|4|5|6|7|\n",
            "                      \n",
            "q0 : -H-X---C-X-H-----\n",
            "            |         \n",
            "q1 : -H-X---|-C-X-H---\n",
            "            | |       \n",
            "q2 : -H-X---|-|-C-X-H-\n",
            "            | | |     \n",
            "q3 : -X-H-X-X-X-X-X---\n",
            "\n",
            "T  : |0|1|2|3|4|5|6|7|\n"
          ]
        }
      ]
    },
    {
      "cell_type": "markdown",
      "source": [
        "# Run Simulation and Plot Results"
      ],
      "metadata": {
        "id": "_ZxO7LjonohS"
      },
      "id": "_ZxO7LjonohS"
    },
    {
      "cell_type": "code",
      "source": [
        "from matplotlib import pyplot as plt"
      ],
      "metadata": {
        "id": "w2i0LpW0lqxz"
      },
      "id": "w2i0LpW0lqxz",
      "execution_count": null,
      "outputs": []
    },
    {
      "cell_type": "code",
      "source": [
        "run = device.run(full_oracle, shots=1000)\n",
        "result = run.result() \n",
        "print(result.measurement_counts)\n",
        "print(result.measurement_probabilities)\n",
        "\n",
        "plt.bar(result.measurement_counts.keys(), result.measurement_counts.values());\n",
        "plt.xlabel('bitstrings');\n",
        "plt.ylabel('counts');\n"
      ],
      "metadata": {
        "colab": {
          "base_uri": "https://localhost:8080/",
          "height": 314
        },
        "id": "WMXjz--NTRs0",
        "outputId": "ea1c383b-05c2-43b7-d5a3-3a0a1d9fde49"
      },
      "id": "WMXjz--NTRs0",
      "execution_count": null,
      "outputs": [
        {
          "output_type": "stream",
          "name": "stdout",
          "text": [
            "Counter({'1111': 508, '1110': 492})\n",
            "{'1111': 0.508, '1110': 0.492}\n"
          ]
        },
        {
          "output_type": "display_data",
          "data": {
            "text/plain": [
              "<Figure size 432x288 with 1 Axes>"
            ],
            "image/png": "[encoded data removed]"
          },
          "metadata": {
            "needs_background": "light"
          }
        }
      ]
    }
  ],
  "metadata": {
    "kernelspec": {
      "display_name": "Python 3",
      "language": "python",
      "name": "python3"
    },
    "language_info": {
      "codemirror_mode": {
        "name": "ipython",
        "version": 3
      },
      "file_extension": ".py",
      "mimetype": "text/x-python",
      "name": "python",
      "nbconvert_exporter": "python",
      "pygments_lexer": "ipython3",
      "version": "3.7.4"
    },
    "colab": {
      "name": "Full_Oracle.ipynb",
      "provenance": [],
      "collapsed_sections": [],
      "include_colab_link": true
    }
  },
  "nbformat": 4,
  "nbformat_minor": 5
}