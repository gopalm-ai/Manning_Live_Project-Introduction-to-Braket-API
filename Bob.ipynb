{
  "cells": [
    {
      "cell_type": "markdown",
      "metadata": {
        "id": "view-in-github",
        "colab_type": "text"
      },
      "source": [
        "<a href=\"https://colab.research.google.com/github/gopalm-ai/Manning_Live_Project-Introduction-to-Braket-API/blob/main/Bob.ipynb\" target=\"_parent\"><img src=\"https://colab.research.google.com/assets/colab-badge.svg\" alt=\"Open In Colab\"/></a>"
      ]
    },
    {
      "cell_type": "markdown",
      "metadata": {
        "id": "sOz4NKwK52OI"
      },
      "source": [
        "# Construct Bob Bell State Circuit\n",
        "\n",
        "> Indented block\n",
        "\n"
      ],
      "id": "sOz4NKwK52OI"
    },
    {
      "cell_type": "code",
      "source": [
        "#!pip3 install amazon-braket-sdk\n",
        "!pip3 install amazon-braket-sdk==1.7.1\n",
        "!pip3 install amazon-braket-default-simulator==1.2.1\n",
        "!pip3 install amazon-braket-schemas==1.2.2\n",
        "#!pip3 install braket"
      ],
      "metadata": {
        "colab": {
          "base_uri": "https://localhost:8080/"
        },
        "id": "K9YSz2ZdeEvp",
        "outputId": "bdfbc258-071b-4490-f2b3-c39bb15ce137"
      },
      "id": "K9YSz2ZdeEvp",
      "execution_count": null,
      "outputs": [
        {
          "output_type": "stream",
          "name": "stdout",
          "text": [
            "Looking in indexes: https://pypi.org/simple, https://us-python.pkg.dev/colab-wheels/public/simple/\n",
            "Requirement already satisfied: amazon-braket-sdk==1.7.1 in /usr/local/lib/python3.7/dist-packages (1.7.1)\n",
            "Requirement already satisfied: boltons in /usr/local/lib/python3.7/dist-packages (from amazon-braket-sdk==1.7.1) (21.0.0)\n",
            "Requirement already satisfied: amazon-braket-default-simulator in /usr/local/lib/python3.7/dist-packages (from amazon-braket-sdk==1.7.1) (1.2.1)\n",
            "Requirement already satisfied: numpy in /usr/local/lib/python3.7/dist-packages (from amazon-braket-sdk==1.7.1) (1.21.6)\n",
            "Requirement already satisfied: nest-asyncio in /usr/local/lib/python3.7/dist-packages (from amazon-braket-sdk==1.7.1) (1.5.5)\n",
            "Requirement already satisfied: backoff in /usr/local/lib/python3.7/dist-packages (from amazon-braket-sdk==1.7.1) (2.1.2)\n",
            "Requirement already satisfied: boto3 in /usr/local/lib/python3.7/dist-packages (from amazon-braket-sdk==1.7.1) (1.24.55)\n",
            "Requirement already satisfied: networkx in /usr/local/lib/python3.7/dist-packages (from amazon-braket-sdk==1.7.1) (2.6.3)\n",
            "Requirement already satisfied: opt-einsum in /usr/local/lib/python3.7/dist-packages (from amazon-braket-default-simulator->amazon-braket-sdk==1.7.1) (3.3.0)\n",
            "Requirement already satisfied: amazon-braket-schemas in /usr/local/lib/python3.7/dist-packages (from amazon-braket-default-simulator->amazon-braket-sdk==1.7.1) (1.2.2)\n",
            "Requirement already satisfied: pydantic in /usr/local/lib/python3.7/dist-packages (from amazon-braket-schemas->amazon-braket-default-simulator->amazon-braket-sdk==1.7.1) (1.9.1)\n",
            "Requirement already satisfied: s3transfer<0.7.0,>=0.6.0 in /usr/local/lib/python3.7/dist-packages (from boto3->amazon-braket-sdk==1.7.1) (0.6.0)\n",
            "Requirement already satisfied: jmespath<2.0.0,>=0.7.1 in /usr/local/lib/python3.7/dist-packages (from boto3->amazon-braket-sdk==1.7.1) (1.0.1)\n",
            "Requirement already satisfied: botocore<1.28.0,>=1.27.55 in /usr/local/lib/python3.7/dist-packages (from boto3->amazon-braket-sdk==1.7.1) (1.27.55)\n",
            "Requirement already satisfied: python-dateutil<3.0.0,>=2.1 in /usr/local/lib/python3.7/dist-packages (from botocore<1.28.0,>=1.27.55->boto3->amazon-braket-sdk==1.7.1) (2.8.2)\n",
            "Requirement already satisfied: urllib3<1.27,>=1.25.4 in /usr/local/lib/python3.7/dist-packages (from botocore<1.28.0,>=1.27.55->boto3->amazon-braket-sdk==1.7.1) (1.26.11)\n",
            "Requirement already satisfied: six>=1.5 in /usr/local/lib/python3.7/dist-packages (from python-dateutil<3.0.0,>=2.1->botocore<1.28.0,>=1.27.55->boto3->amazon-braket-sdk==1.7.1) (1.15.0)\n",
            "Requirement already satisfied: typing-extensions>=3.7.4.3 in /usr/local/lib/python3.7/dist-packages (from pydantic->amazon-braket-schemas->amazon-braket-default-simulator->amazon-braket-sdk==1.7.1) (4.1.1)\n",
            "Looking in indexes: https://pypi.org/simple, https://us-python.pkg.dev/colab-wheels/public/simple/\n",
            "Requirement already satisfied: amazon-braket-default-simulator==1.2.1 in /usr/local/lib/python3.7/dist-packages (1.2.1)\n",
            "Requirement already satisfied: amazon-braket-schemas in /usr/local/lib/python3.7/dist-packages (from amazon-braket-default-simulator==1.2.1) (1.2.2)\n",
            "Requirement already satisfied: numpy in /usr/local/lib/python3.7/dist-packages (from amazon-braket-default-simulator==1.2.1) (1.21.6)\n",
            "Requirement already satisfied: opt-einsum in /usr/local/lib/python3.7/dist-packages (from amazon-braket-default-simulator==1.2.1) (3.3.0)\n",
            "Requirement already satisfied: pydantic in /usr/local/lib/python3.7/dist-packages (from amazon-braket-schemas->amazon-braket-default-simulator==1.2.1) (1.9.1)\n",
            "Requirement already satisfied: typing-extensions>=3.7.4.3 in /usr/local/lib/python3.7/dist-packages (from pydantic->amazon-braket-schemas->amazon-braket-default-simulator==1.2.1) (4.1.1)\n",
            "Looking in indexes: https://pypi.org/simple, https://us-python.pkg.dev/colab-wheels/public/simple/\n",
            "Requirement already satisfied: amazon-braket-schemas==1.2.2 in /usr/local/lib/python3.7/dist-packages (1.2.2)\n",
            "Requirement already satisfied: pydantic in /usr/local/lib/python3.7/dist-packages (from amazon-braket-schemas==1.2.2) (1.9.1)\n",
            "Requirement already satisfied: typing-extensions>=3.7.4.3 in /usr/local/lib/python3.7/dist-packages (from pydantic->amazon-braket-schemas==1.2.2) (4.1.1)\n"
          ]
        }
      ]
    },
    {
      "cell_type": "code",
      "source": [
        "import braket._sdk as braket_sdk\n",
        "braket_sdk.__version__"
      ],
      "metadata": {
        "id": "sEXQHNcjFOER",
        "colab": {
          "base_uri": "https://localhost:8080/",
          "height": 35
        },
        "outputId": "ae5e5db2-0810-432f-8a8b-a353125a1b37"
      },
      "id": "sEXQHNcjFOER",
      "execution_count": null,
      "outputs": [
        {
          "output_type": "execute_result",
          "data": {
            "text/plain": [
              "'1.7.1'"
            ],
            "application/vnd.google.colaboratory.intrinsic+json": {
              "type": "string"
            }
          },
          "metadata": {},
          "execution_count": 2
        }
      ]
    },
    {
      "cell_type": "code",
      "source": [
        "from braket.devices import LocalSimulator\n",
        "device = LocalSimulator()"
      ],
      "metadata": {
        "id": "tqoLUFaI9I0X"
      },
      "id": "tqoLUFaI9I0X",
      "execution_count": null,
      "outputs": []
    },
    {
      "cell_type": "code",
      "source": [
        "device"
      ],
      "metadata": {
        "colab": {
          "base_uri": "https://localhost:8080/"
        },
        "id": "fCT0slfh9NPU",
        "outputId": "4d41bf4f-608c-4992-ff7d-cf6dde7104e9"
      },
      "id": "fCT0slfh9NPU",
      "execution_count": null,
      "outputs": [
        {
          "output_type": "execute_result",
          "data": {
            "text/plain": [
              "<braket.devices.local_simulator.LocalSimulator at 0x7f2ae77f9550>"
            ]
          },
          "metadata": {},
          "execution_count": 4
        }
      ]
    },
    {
      "cell_type": "code",
      "source": [
        "import boto3\n",
        "from braket.circuits import Circuit, Gate, Observable\n",
        "from braket.aws import AwsDevice\n",
        "import matplotlib.pyplot as plt\n",
        "import seaborn as sns"
      ],
      "metadata": {
        "id": "IZ-f29WAeRPX"
      },
      "id": "IZ-f29WAeRPX",
      "execution_count": null,
      "outputs": []
    },
    {
      "cell_type": "code",
      "source": [
        "import math\n",
        "import cmath\n",
        "import matplotlib.pyplot as plt\n",
        "import numpy as np\n",
        "from numpy import linalg as LA \n",
        "# The linear algebra library in NumPy\n",
        "import functools"
      ],
      "metadata": {
        "id": "RFqb0CDofseu"
      },
      "id": "RFqb0CDofseu",
      "execution_count": null,
      "outputs": []
    },
    {
      "cell_type": "code",
      "source": [
        "# Define Alice's Bell State quantum circuit\n",
        "bob_circ = Circuit().cnot(0,1).h(0)\n",
        "print(bob_circ)"
      ],
      "metadata": {
        "colab": {
          "base_uri": "https://localhost:8080/"
        },
        "id": "3md2OAYMhpZY",
        "outputId": "89310662-9adf-4949-cf76-1b6232499d2c"
      },
      "id": "3md2OAYMhpZY",
      "execution_count": null,
      "outputs": [
        {
          "output_type": "stream",
          "name": "stdout",
          "text": [
            "T  : |0|1|\n",
            "          \n",
            "q0 : -C-H-\n",
            "      |   \n",
            "q1 : -X---\n",
            "\n",
            "T  : |0|1|\n"
          ]
        }
      ]
    },
    {
      "cell_type": "code",
      "source": [
        "#device = LocalSimulator\n",
        "run = device.run(bob_circ, shots=1000)\n",
        "result = run.result() # Just adding it to a variable to make the code easy to read\n",
        "#run.result()"
      ],
      "metadata": {
        "id": "MjevS5nFhphj"
      },
      "id": "MjevS5nFhphj",
      "execution_count": null,
      "outputs": []
    },
    {
      "cell_type": "code",
      "source": [
        "result.measurement_counts"
      ],
      "metadata": {
        "id": "mK_w50YZiL0D",
        "colab": {
          "base_uri": "https://localhost:8080/"
        },
        "outputId": "d8861d5c-f2e1-4bcb-f639-93913915d3ff"
      },
      "id": "mK_w50YZiL0D",
      "execution_count": null,
      "outputs": [
        {
          "output_type": "execute_result",
          "data": {
            "text/plain": [
              "Counter({'10': 514, '00': 486})"
            ]
          },
          "metadata": {},
          "execution_count": 10
        }
      ]
    },
    {
      "cell_type": "code",
      "source": [
        "result.measurement_probabilities"
      ],
      "metadata": {
        "colab": {
          "base_uri": "https://localhost:8080/"
        },
        "id": "nqFz66qEiq-1",
        "outputId": "c496ac79-4292-4a59-e520-577e52e54128"
      },
      "id": "nqFz66qEiq-1",
      "execution_count": null,
      "outputs": [
        {
          "output_type": "execute_result",
          "data": {
            "text/plain": [
              "{'10': 0.514, '00': 0.486}"
            ]
          },
          "metadata": {},
          "execution_count": 11
        }
      ]
    }
  ],
  "metadata": {
    "kernelspec": {
      "display_name": "Python 3",
      "language": "python",
      "name": "python3"
    },
    "language_info": {
      "codemirror_mode": {
        "name": "ipython",
        "version": 3
      },
      "file_extension": ".py",
      "mimetype": "text/x-python",
      "name": "python",
      "nbconvert_exporter": "python",
      "pygments_lexer": "ipython3",
      "version": "3.7.4"
    },
    "colab": {
      "name": "Bob.ipynb",
      "provenance": [],
      "collapsed_sections": [],
      "include_colab_link": true
    }
  },
  "nbformat": 4,
  "nbformat_minor": 5
}