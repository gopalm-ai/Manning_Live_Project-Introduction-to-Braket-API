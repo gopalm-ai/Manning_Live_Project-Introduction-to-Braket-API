{
  "cells": [
    {
      "cell_type": "markdown",
      "metadata": {
        "id": "view-in-github",
        "colab_type": "text"
      },
      "source": [
        "<a href=\"https://colab.research.google.com/github/gopalm-ai/Manning_Live_Project-Introduction-to-Braket-API/blob/main/Encoding.ipynb\" target=\"_parent\"><img src=\"https://colab.research.google.com/assets/colab-badge.svg\" alt=\"Open In Colab\"/></a>"
      ]
    },
    {
      "cell_type": "markdown",
      "metadata": {
        "id": "sOz4NKwK52OI"
      },
      "source": [
        "# Construct Alice Bell State Circuit\n",
        "\n",
        "> Indented block\n",
        "\n"
      ],
      "id": "sOz4NKwK52OI"
    },
    {
      "cell_type": "code",
      "source": [
        "#!pip3 install amazon-braket-sdk\n",
        "!pip3 install amazon-braket-sdk==1.7.1\n",
        "!pip3 install amazon-braket-default-simulator==1.2.1\n",
        "!pip3 install amazon-braket-schemas==1.2.2\n",
        "#!pip3 install braket"
      ],
      "metadata": {
        "colab": {
          "base_uri": "https://localhost:8080/"
        },
        "id": "K9YSz2ZdeEvp",
        "outputId": "1ecab8de-73f8-4f59-e749-c27e844faa10"
      },
      "id": "K9YSz2ZdeEvp",
      "execution_count": null,
      "outputs": [
        {
          "output_type": "stream",
          "name": "stdout",
          "text": [
            "Looking in indexes: https://pypi.org/simple, https://us-python.pkg.dev/colab-wheels/public/simple/\n",
            "Requirement already satisfied: amazon-braket-sdk==1.7.1 in /usr/local/lib/python3.7/dist-packages (1.7.1)\n",
            "Requirement already satisfied: networkx in /usr/local/lib/python3.7/dist-packages (from amazon-braket-sdk==1.7.1) (2.6.3)\n",
            "Requirement already satisfied: boto3 in /usr/local/lib/python3.7/dist-packages (from amazon-braket-sdk==1.7.1) (1.24.54)\n",
            "Requirement already satisfied: backoff in /usr/local/lib/python3.7/dist-packages (from amazon-braket-sdk==1.7.1) (2.1.2)\n",
            "Requirement already satisfied: numpy in /usr/local/lib/python3.7/dist-packages (from amazon-braket-sdk==1.7.1) (1.21.6)\n",
            "Requirement already satisfied: amazon-braket-default-simulator in /usr/local/lib/python3.7/dist-packages (from amazon-braket-sdk==1.7.1) (1.2.1)\n",
            "Requirement already satisfied: boltons in /usr/local/lib/python3.7/dist-packages (from amazon-braket-sdk==1.7.1) (21.0.0)\n",
            "Requirement already satisfied: nest-asyncio in /usr/local/lib/python3.7/dist-packages (from amazon-braket-sdk==1.7.1) (1.5.5)\n",
            "Requirement already satisfied: opt-einsum in /usr/local/lib/python3.7/dist-packages (from amazon-braket-default-simulator->amazon-braket-sdk==1.7.1) (3.3.0)\n",
            "Requirement already satisfied: amazon-braket-schemas in /usr/local/lib/python3.7/dist-packages (from amazon-braket-default-simulator->amazon-braket-sdk==1.7.1) (1.2.2)\n",
            "Requirement already satisfied: pydantic in /usr/local/lib/python3.7/dist-packages (from amazon-braket-schemas->amazon-braket-default-simulator->amazon-braket-sdk==1.7.1) (1.9.1)\n",
            "Requirement already satisfied: jmespath<2.0.0,>=0.7.1 in /usr/local/lib/python3.7/dist-packages (from boto3->amazon-braket-sdk==1.7.1) (1.0.1)\n",
            "Requirement already satisfied: s3transfer<0.7.0,>=0.6.0 in /usr/local/lib/python3.7/dist-packages (from boto3->amazon-braket-sdk==1.7.1) (0.6.0)\n",
            "Requirement already satisfied: botocore<1.28.0,>=1.27.54 in /usr/local/lib/python3.7/dist-packages (from boto3->amazon-braket-sdk==1.7.1) (1.27.54)\n",
            "Requirement already satisfied: urllib3<1.27,>=1.25.4 in /usr/local/lib/python3.7/dist-packages (from botocore<1.28.0,>=1.27.54->boto3->amazon-braket-sdk==1.7.1) (1.26.11)\n",
            "Requirement already satisfied: python-dateutil<3.0.0,>=2.1 in /usr/local/lib/python3.7/dist-packages (from botocore<1.28.0,>=1.27.54->boto3->amazon-braket-sdk==1.7.1) (2.8.2)\n",
            "Requirement already satisfied: six>=1.5 in /usr/local/lib/python3.7/dist-packages (from python-dateutil<3.0.0,>=2.1->botocore<1.28.0,>=1.27.54->boto3->amazon-braket-sdk==1.7.1) (1.15.0)\n",
            "Requirement already satisfied: typing-extensions>=3.7.4.3 in /usr/local/lib/python3.7/dist-packages (from pydantic->amazon-braket-schemas->amazon-braket-default-simulator->amazon-braket-sdk==1.7.1) (4.1.1)\n",
            "Looking in indexes: https://pypi.org/simple, https://us-python.pkg.dev/colab-wheels/public/simple/\n",
            "Requirement already satisfied: amazon-braket-default-simulator==1.2.1 in /usr/local/lib/python3.7/dist-packages (1.2.1)\n",
            "Requirement already satisfied: opt-einsum in /usr/local/lib/python3.7/dist-packages (from amazon-braket-default-simulator==1.2.1) (3.3.0)\n",
            "Requirement already satisfied: numpy in /usr/local/lib/python3.7/dist-packages (from amazon-braket-default-simulator==1.2.1) (1.21.6)\n",
            "Requirement already satisfied: amazon-braket-schemas in /usr/local/lib/python3.7/dist-packages (from amazon-braket-default-simulator==1.2.1) (1.2.2)\n",
            "Requirement already satisfied: pydantic in /usr/local/lib/python3.7/dist-packages (from amazon-braket-schemas->amazon-braket-default-simulator==1.2.1) (1.9.1)\n",
            "Requirement already satisfied: typing-extensions>=3.7.4.3 in /usr/local/lib/python3.7/dist-packages (from pydantic->amazon-braket-schemas->amazon-braket-default-simulator==1.2.1) (4.1.1)\n",
            "Looking in indexes: https://pypi.org/simple, https://us-python.pkg.dev/colab-wheels/public/simple/\n",
            "Requirement already satisfied: amazon-braket-schemas==1.2.2 in /usr/local/lib/python3.7/dist-packages (1.2.2)\n",
            "Requirement already satisfied: pydantic in /usr/local/lib/python3.7/dist-packages (from amazon-braket-schemas==1.2.2) (1.9.1)\n",
            "Requirement already satisfied: typing-extensions>=3.7.4.3 in /usr/local/lib/python3.7/dist-packages (from pydantic->amazon-braket-schemas==1.2.2) (4.1.1)\n"
          ]
        }
      ]
    },
    {
      "cell_type": "code",
      "source": [
        "import braket._sdk as braket_sdk\n",
        "braket_sdk.__version__"
      ],
      "metadata": {
        "id": "sEXQHNcjFOER",
        "colab": {
          "base_uri": "https://localhost:8080/",
          "height": 35
        },
        "outputId": "2399d08b-3772-4195-cf80-0e5faec96e86"
      },
      "id": "sEXQHNcjFOER",
      "execution_count": null,
      "outputs": [
        {
          "output_type": "execute_result",
          "data": {
            "text/plain": [
              "'1.7.1'"
            ],
            "application/vnd.google.colaboratory.intrinsic+json": {
              "type": "string"
            }
          },
          "metadata": {},
          "execution_count": 2
        }
      ]
    },
    {
      "cell_type": "code",
      "source": [
        "from braket.devices import LocalSimulator\n",
        "device = LocalSimulator()"
      ],
      "metadata": {
        "id": "tqoLUFaI9I0X"
      },
      "id": "tqoLUFaI9I0X",
      "execution_count": null,
      "outputs": []
    },
    {
      "cell_type": "code",
      "source": [
        "device"
      ],
      "metadata": {
        "colab": {
          "base_uri": "https://localhost:8080/"
        },
        "id": "fCT0slfh9NPU",
        "outputId": "513ea30b-f8c3-4d79-b1da-6208b0d2093e"
      },
      "id": "fCT0slfh9NPU",
      "execution_count": null,
      "outputs": [
        {
          "output_type": "execute_result",
          "data": {
            "text/plain": [
              "<braket.devices.local_simulator.LocalSimulator at 0x7fc58fb852d0>"
            ]
          },
          "metadata": {},
          "execution_count": 4
        }
      ]
    },
    {
      "cell_type": "code",
      "source": [
        "import boto3\n",
        "from braket.circuits import Circuit, Gate, Observable\n",
        "from braket.aws import AwsDevice\n",
        "import matplotlib.pyplot as plt\n",
        "import seaborn as sns"
      ],
      "metadata": {
        "id": "IZ-f29WAeRPX"
      },
      "id": "IZ-f29WAeRPX",
      "execution_count": null,
      "outputs": []
    },
    {
      "cell_type": "code",
      "source": [
        "import math\n",
        "import cmath\n",
        "import matplotlib.pyplot as plt\n",
        "import numpy as np\n",
        "from numpy import linalg as LA \n",
        "# The linear algebra library in NumPy\n",
        "import functools"
      ],
      "metadata": {
        "id": "RFqb0CDofseu"
      },
      "id": "RFqb0CDofseu",
      "execution_count": null,
      "outputs": []
    },
    {
      "cell_type": "code",
      "source": [
        "# Define Alice's Bell State quantum circuit\n",
        "alice_circ = Circuit().h(0).cnot(0,1)\n",
        "print(alice_circ)"
      ],
      "metadata": {
        "colab": {
          "base_uri": "https://localhost:8080/"
        },
        "id": "dTQRanY17Qr4",
        "outputId": "632e0a4d-e8a7-4cc4-e5a6-00b9260b6632"
      },
      "id": "dTQRanY17Qr4",
      "execution_count": null,
      "outputs": [
        {
          "output_type": "stream",
          "name": "stdout",
          "text": [
            "T  : |0|1|\n",
            "          \n",
            "q0 : -H-C-\n",
            "        | \n",
            "q1 : ---X-\n",
            "\n",
            "T  : |0|1|\n"
          ]
        }
      ]
    },
    {
      "cell_type": "markdown",
      "source": [
        "## Circuit Classes and Dictionary"
      ],
      "metadata": {
        "id": "zy8ns3EwEdTs"
      },
      "id": "zy8ns3EwEdTs"
    },
    {
      "cell_type": "code",
      "source": [
        "# Define circuit classes\n",
        "I_circ = Circuit().i(0)\n",
        "X_circ = Circuit().x(0)\n",
        "Z_circ = Circuit().z(0)\n",
        "XZ_circ = Circuit().x(0).z(0)"
      ],
      "metadata": {
        "id": "tO3gvmfGNflv"
      },
      "id": "tO3gvmfGNflv",
      "execution_count": null,
      "outputs": []
    },
    {
      "cell_type": "code",
      "source": [
        "#create a dictionary\n",
        "encoding_scheme = {'00': I_circ, '01': X_circ, '10': Z_circ, '11': XZ_circ}"
      ],
      "metadata": {
        "id": "vfCxAszrpih6"
      },
      "id": "vfCxAszrpih6",
      "execution_count": null,
      "outputs": []
    },
    {
      "cell_type": "code",
      "source": [
        "print(encoding_scheme)"
      ],
      "metadata": {
        "colab": {
          "base_uri": "https://localhost:8080/"
        },
        "id": "erXtu3sYqB8K",
        "outputId": "c9cad88a-e75b-449a-b6b0-9c6caf7dbbd8"
      },
      "id": "erXtu3sYqB8K",
      "execution_count": null,
      "outputs": [
        {
          "output_type": "stream",
          "name": "stdout",
          "text": [
            "{'00': Circuit('instructions': [Instruction('operator': I('qubit_count': 1), 'target': QubitSet([Qubit(0)]))]), '01': Circuit('instructions': [Instruction('operator': X('qubit_count': 1), 'target': QubitSet([Qubit(0)]))]), '10': Circuit('instructions': [Instruction('operator': Z('qubit_count': 1), 'target': QubitSet([Qubit(0)]))]), '11': Circuit('instructions': [Instruction('operator': X('qubit_count': 1), 'target': QubitSet([Qubit(0)])), Instruction('operator': Z('qubit_count': 1), 'target': QubitSet([Qubit(0)]))])}\n"
          ]
        }
      ]
    },
    {
      "cell_type": "code",
      "source": [
        "print(encoding_scheme.items())\n",
        "print(encoding_scheme.keys())\n",
        "print(encoding_scheme.values())"
      ],
      "metadata": {
        "colab": {
          "base_uri": "https://localhost:8080/"
        },
        "id": "3md2OAYMhpZY",
        "outputId": "4782dfc5-776c-4671-b4bc-13aaa486b4e4"
      },
      "id": "3md2OAYMhpZY",
      "execution_count": null,
      "outputs": [
        {
          "output_type": "stream",
          "name": "stdout",
          "text": [
            "dict_items([('00', Circuit('instructions': [Instruction('operator': I('qubit_count': 1), 'target': QubitSet([Qubit(0)]))])), ('01', Circuit('instructions': [Instruction('operator': X('qubit_count': 1), 'target': QubitSet([Qubit(0)]))])), ('10', Circuit('instructions': [Instruction('operator': Z('qubit_count': 1), 'target': QubitSet([Qubit(0)]))])), ('11', Circuit('instructions': [Instruction('operator': X('qubit_count': 1), 'target': QubitSet([Qubit(0)])), Instruction('operator': Z('qubit_count': 1), 'target': QubitSet([Qubit(0)]))]))])\n",
            "dict_keys(['00', '01', '10', '11'])\n",
            "dict_values([Circuit('instructions': [Instruction('operator': I('qubit_count': 1), 'target': QubitSet([Qubit(0)]))]), Circuit('instructions': [Instruction('operator': X('qubit_count': 1), 'target': QubitSet([Qubit(0)]))]), Circuit('instructions': [Instruction('operator': Z('qubit_count': 1), 'target': QubitSet([Qubit(0)]))]), Circuit('instructions': [Instruction('operator': X('qubit_count': 1), 'target': QubitSet([Qubit(0)])), Instruction('operator': Z('qubit_count': 1), 'target': QubitSet([Qubit(0)]))])])\n"
          ]
        }
      ]
    },
    {
      "cell_type": "code",
      "source": [
        "for key in encoding_scheme.keys():\n",
        "  print(key) \n",
        "  print(encoding_scheme[key])\n",
        "  print('\\n')"
      ],
      "metadata": {
        "colab": {
          "base_uri": "https://localhost:8080/"
        },
        "id": "GFmBVvZnOM77",
        "outputId": "f67877be-2706-4bb7-f5eb-a52123e5ef51"
      },
      "id": "GFmBVvZnOM77",
      "execution_count": null,
      "outputs": [
        {
          "output_type": "stream",
          "name": "stdout",
          "text": [
            "00\n",
            "T  : |0|\n",
            "        \n",
            "q0 : -I-\n",
            "\n",
            "T  : |0|\n",
            "\n",
            "\n",
            "01\n",
            "T  : |0|\n",
            "        \n",
            "q0 : -X-\n",
            "\n",
            "T  : |0|\n",
            "\n",
            "\n",
            "10\n",
            "T  : |0|\n",
            "        \n",
            "q0 : -Z-\n",
            "\n",
            "T  : |0|\n",
            "\n",
            "\n",
            "11\n",
            "T  : |0|1|\n",
            "          \n",
            "q0 : -X-Z-\n",
            "\n",
            "T  : |0|1|\n",
            "\n",
            "\n"
          ]
        }
      ]
    },
    {
      "cell_type": "code",
      "source": [
        "# Function to check if given key is present in test message\n",
        "# and if so, call dictionary and return appended circuit\n",
        "def check_and_append(test_message):\n",
        "  for key in encoding_scheme.keys():\n",
        "    if key in test_message: \n",
        "      print('Success!')\n",
        "      alice_circ.add(encoding_scheme[key])\n",
        "      print(alice_circ)\n",
        "      break\n",
        "    else:\n",
        "      print('Failure!')"
      ],
      "metadata": {
        "id": "NB1lB8ztAvks"
      },
      "id": "NB1lB8ztAvks",
      "execution_count": null,
      "outputs": []
    },
    {
      "cell_type": "markdown",
      "source": [
        "## String '00'"
      ],
      "metadata": {
        "id": "n2TCcc5bED8j"
      },
      "id": "n2TCcc5bED8j"
    },
    {
      "cell_type": "code",
      "source": [
        "# Check test message with '00' and append\n",
        "alice_circ = Circuit().h(0).cnot(0,1)\n",
        "test_message = \"Alice and Bob 00\"\n",
        "check_and_append(test_message)"
      ],
      "metadata": {
        "colab": {
          "base_uri": "https://localhost:8080/"
        },
        "id": "XMiRryv3-rGB",
        "outputId": "011643da-10e8-4261-da9e-1c5066d12eae"
      },
      "id": "XMiRryv3-rGB",
      "execution_count": null,
      "outputs": [
        {
          "output_type": "stream",
          "name": "stdout",
          "text": [
            "Success!\n",
            "T  : |0|1|2|\n",
            "            \n",
            "q0 : -H-C-I-\n",
            "        |   \n",
            "q1 : ---X---\n",
            "\n",
            "T  : |0|1|2|\n"
          ]
        }
      ]
    },
    {
      "cell_type": "code",
      "source": [
        "#device = LocalSimulator\n",
        "run = device.run(alice_circ, shots=1000)\n",
        "result = run.result() # Just adding it to a variable to make the code easy to read\n",
        "#run.result()"
      ],
      "metadata": {
        "id": "MjevS5nFhphj"
      },
      "id": "MjevS5nFhphj",
      "execution_count": null,
      "outputs": []
    },
    {
      "cell_type": "code",
      "source": [
        "result.measurement_counts"
      ],
      "metadata": {
        "id": "mK_w50YZiL0D",
        "colab": {
          "base_uri": "https://localhost:8080/"
        },
        "outputId": "e60d2102-6795-40a1-eac5-f39a07636e39"
      },
      "id": "mK_w50YZiL0D",
      "execution_count": null,
      "outputs": [
        {
          "output_type": "execute_result",
          "data": {
            "text/plain": [
              "Counter({'11': 496, '00': 504})"
            ]
          },
          "metadata": {},
          "execution_count": 72
        }
      ]
    },
    {
      "cell_type": "code",
      "source": [
        "result.measurement_probabilities"
      ],
      "metadata": {
        "colab": {
          "base_uri": "https://localhost:8080/"
        },
        "id": "nqFz66qEiq-1",
        "outputId": "3e401433-3b84-4160-f9d6-2ee30e329ab5"
      },
      "id": "nqFz66qEiq-1",
      "execution_count": null,
      "outputs": [
        {
          "output_type": "execute_result",
          "data": {
            "text/plain": [
              "{'11': 0.496, '00': 0.504}"
            ]
          },
          "metadata": {},
          "execution_count": 73
        }
      ]
    },
    {
      "cell_type": "markdown",
      "source": [
        "## String '01'"
      ],
      "metadata": {
        "id": "JD1q9s9xEJOT"
      },
      "id": "JD1q9s9xEJOT"
    },
    {
      "cell_type": "code",
      "source": [
        "# Check test message with '01' and append\n",
        "alice_circ = Circuit().h(0).cnot(0,1)\n",
        "test_message = \"Alice and Bob 01\"\n",
        "check_and_append(test_message)"
      ],
      "metadata": {
        "colab": {
          "base_uri": "https://localhost:8080/"
        },
        "id": "TgEjNsxxCk2Y",
        "outputId": "7c38f23a-2cd9-4260-deeb-e975fcb71895"
      },
      "id": "TgEjNsxxCk2Y",
      "execution_count": null,
      "outputs": [
        {
          "output_type": "stream",
          "name": "stdout",
          "text": [
            "Failure!\n",
            "Success!\n",
            "T  : |0|1|2|\n",
            "            \n",
            "q0 : -H-C-X-\n",
            "        |   \n",
            "q1 : ---X---\n",
            "\n",
            "T  : |0|1|2|\n"
          ]
        }
      ]
    },
    {
      "cell_type": "code",
      "source": [
        "#device = LocalSimulator\n",
        "run = device.run(alice_circ, shots=1000)\n",
        "result = run.result() # Just adding it to a variable to make the code easy to read\n",
        "#run.result()"
      ],
      "metadata": {
        "id": "mU-UT8_9CpZp"
      },
      "id": "mU-UT8_9CpZp",
      "execution_count": null,
      "outputs": []
    },
    {
      "cell_type": "code",
      "source": [
        "result.measurement_counts"
      ],
      "metadata": {
        "colab": {
          "base_uri": "https://localhost:8080/"
        },
        "id": "Q7KpryxhCu8t",
        "outputId": "313ae10d-bfc8-4663-f5cc-08f04884870b"
      },
      "id": "Q7KpryxhCu8t",
      "execution_count": null,
      "outputs": [
        {
          "output_type": "execute_result",
          "data": {
            "text/plain": [
              "Counter({'10': 469, '01': 531})"
            ]
          },
          "metadata": {},
          "execution_count": 77
        }
      ]
    },
    {
      "cell_type": "code",
      "source": [
        "result.measurement_probabilities"
      ],
      "metadata": {
        "colab": {
          "base_uri": "https://localhost:8080/"
        },
        "id": "_x4vP1UcCxdC",
        "outputId": "e93d00c0-f624-4600-89fb-d66491995a8b"
      },
      "id": "_x4vP1UcCxdC",
      "execution_count": null,
      "outputs": [
        {
          "output_type": "execute_result",
          "data": {
            "text/plain": [
              "{'10': 0.469, '01': 0.531}"
            ]
          },
          "metadata": {},
          "execution_count": 78
        }
      ]
    },
    {
      "cell_type": "markdown",
      "source": [
        "## String '10'"
      ],
      "metadata": {
        "id": "7g3lovJZEMt_"
      },
      "id": "7g3lovJZEMt_"
    },
    {
      "cell_type": "code",
      "source": [
        "# Check test message with '10' and append\n",
        "alice_circ = Circuit().h(0).cnot(0,1)\n",
        "test_message = \"Alice and Bob 10\"\n",
        "check_and_append(test_message)"
      ],
      "metadata": {
        "colab": {
          "base_uri": "https://localhost:8080/"
        },
        "id": "h2eucPeRCz75",
        "outputId": "1f51143e-a9be-47f6-9536-fd7751d99b44"
      },
      "id": "h2eucPeRCz75",
      "execution_count": null,
      "outputs": [
        {
          "output_type": "stream",
          "name": "stdout",
          "text": [
            "Failure!\n",
            "Failure!\n",
            "Success!\n",
            "T  : |0|1|2|\n",
            "            \n",
            "q0 : -H-C-Z-\n",
            "        |   \n",
            "q1 : ---X---\n",
            "\n",
            "T  : |0|1|2|\n"
          ]
        }
      ]
    },
    {
      "cell_type": "code",
      "source": [
        "#device = LocalSimulator\n",
        "run = device.run(alice_circ, shots=1000)\n",
        "result = run.result() # Just adding it to a variable to make the code easy to read\n",
        "#run.result()"
      ],
      "metadata": {
        "id": "0Kvky_jkC5_J"
      },
      "id": "0Kvky_jkC5_J",
      "execution_count": null,
      "outputs": []
    },
    {
      "cell_type": "code",
      "source": [
        "result.measurement_counts"
      ],
      "metadata": {
        "colab": {
          "base_uri": "https://localhost:8080/"
        },
        "id": "_Rq5uDweC6FZ",
        "outputId": "bf1ba4b2-6920-457d-90b1-d529b0b5e309"
      },
      "id": "_Rq5uDweC6FZ",
      "execution_count": null,
      "outputs": [
        {
          "output_type": "execute_result",
          "data": {
            "text/plain": [
              "Counter({'00': 492, '11': 508})"
            ]
          },
          "metadata": {},
          "execution_count": 81
        }
      ]
    },
    {
      "cell_type": "code",
      "source": [
        "result.measurement_probabilities"
      ],
      "metadata": {
        "colab": {
          "base_uri": "https://localhost:8080/"
        },
        "id": "8jYrJBSLC6M7",
        "outputId": "075f14a5-033c-4210-c450-8742d1ef252c"
      },
      "id": "8jYrJBSLC6M7",
      "execution_count": null,
      "outputs": [
        {
          "output_type": "execute_result",
          "data": {
            "text/plain": [
              "{'00': 0.492, '11': 0.508}"
            ]
          },
          "metadata": {},
          "execution_count": 82
        }
      ]
    },
    {
      "cell_type": "markdown",
      "source": [
        "## String '11'"
      ],
      "metadata": {
        "id": "-Xov3YtmERA_"
      },
      "id": "-Xov3YtmERA_"
    },
    {
      "cell_type": "code",
      "source": [
        "# Check test message with '11' and append\n",
        "alice_circ = Circuit().h(0).cnot(0,1)\n",
        "test_message = \"Alice and Bob 11\"\n",
        "check_and_append(test_message)"
      ],
      "metadata": {
        "colab": {
          "base_uri": "https://localhost:8080/"
        },
        "id": "0ovTPBBWDJee",
        "outputId": "0b424851-6d1e-4df6-c6e2-a785b54f0dc9"
      },
      "id": "0ovTPBBWDJee",
      "execution_count": null,
      "outputs": [
        {
          "output_type": "stream",
          "name": "stdout",
          "text": [
            "Failure!\n",
            "Failure!\n",
            "Failure!\n",
            "Success!\n",
            "T  : |0|1|2|3|\n",
            "              \n",
            "q0 : -H-C-X-Z-\n",
            "        |     \n",
            "q1 : ---X-----\n",
            "\n",
            "T  : |0|1|2|3|\n"
          ]
        }
      ]
    },
    {
      "cell_type": "code",
      "source": [
        "#device = LocalSimulator\n",
        "run = device.run(alice_circ, shots=1000)\n",
        "result = run.result() # Just adding it to a variable to make the code easy to read\n",
        "#run.result()"
      ],
      "metadata": {
        "id": "KQoelw1tDTy4"
      },
      "id": "KQoelw1tDTy4",
      "execution_count": null,
      "outputs": []
    },
    {
      "cell_type": "code",
      "source": [
        "result.measurement_counts"
      ],
      "metadata": {
        "colab": {
          "base_uri": "https://localhost:8080/"
        },
        "id": "X5AwZqJxDaCo",
        "outputId": "34f1c322-6dc9-4f4f-ee2e-56fb3d6e9ebe"
      },
      "id": "X5AwZqJxDaCo",
      "execution_count": null,
      "outputs": [
        {
          "output_type": "execute_result",
          "data": {
            "text/plain": [
              "Counter({'10': 487, '01': 513})"
            ]
          },
          "metadata": {},
          "execution_count": 85
        }
      ]
    },
    {
      "cell_type": "code",
      "source": [
        "result.measurement_probabilities"
      ],
      "metadata": {
        "colab": {
          "base_uri": "https://localhost:8080/"
        },
        "id": "WEzPDGCHDcus",
        "outputId": "b6dc6cab-564f-4a05-d6a2-60455a42354d"
      },
      "id": "WEzPDGCHDcus",
      "execution_count": null,
      "outputs": [
        {
          "output_type": "execute_result",
          "data": {
            "text/plain": [
              "{'10': 0.487, '01': 0.513}"
            ]
          },
          "metadata": {},
          "execution_count": 86
        }
      ]
    },
    {
      "cell_type": "markdown",
      "source": [
        "## None of the Above"
      ],
      "metadata": {
        "id": "lnWE-bLCEUo4"
      },
      "id": "lnWE-bLCEUo4"
    },
    {
      "cell_type": "code",
      "source": [
        "# Check test message without any keys\n",
        "alice_circ = Circuit().h(0).cnot(0,1)\n",
        "test_message = \"Alice and Bob\"\n",
        "check_and_append(test_message)"
      ],
      "metadata": {
        "colab": {
          "base_uri": "https://localhost:8080/"
        },
        "id": "fbPOsPLxDhAC",
        "outputId": "24b789aa-e6a9-43b1-f536-55dd4de3b460"
      },
      "id": "fbPOsPLxDhAC",
      "execution_count": null,
      "outputs": [
        {
          "output_type": "stream",
          "name": "stdout",
          "text": [
            "Failure!\n",
            "Failure!\n",
            "Failure!\n",
            "Failure!\n"
          ]
        }
      ]
    },
    {
      "cell_type": "code",
      "source": [
        ""
      ],
      "metadata": {
        "id": "2v9a_bTFDqyM"
      },
      "id": "2v9a_bTFDqyM",
      "execution_count": null,
      "outputs": []
    }
  ],
  "metadata": {
    "kernelspec": {
      "display_name": "Python 3",
      "language": "python",
      "name": "python3"
    },
    "language_info": {
      "codemirror_mode": {
        "name": "ipython",
        "version": 3
      },
      "file_extension": ".py",
      "mimetype": "text/x-python",
      "name": "python",
      "nbconvert_exporter": "python",
      "pygments_lexer": "ipython3",
      "version": "3.7.4"
    },
    "colab": {
      "name": "Encoding.ipynb",
      "provenance": [],
      "collapsed_sections": [],
      "include_colab_link": true
    }
  },
  "nbformat": 4,
  "nbformat_minor": 5
}