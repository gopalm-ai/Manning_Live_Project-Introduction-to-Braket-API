{
  "cells": [
    {
      "cell_type": "markdown",
      "metadata": {
        "id": "view-in-github",
        "colab_type": "text"
      },
      "source": [
        "<a href=\"https://colab.research.google.com/github/gopalm-ai/Manning_Live_Project-Introduction-to-Braket-API/blob/main/Balanced_Oracle.ipynb\" target=\"_parent\"><img src=\"https://colab.research.google.com/assets/colab-badge.svg\" alt=\"Open In Colab\"/></a>"
      ]
    },
    {
      "cell_type": "code",
      "source": [
        "!pip3 install amazon-braket-sdk==1.7.1\n",
        "!pip3 install amazon-braket-default-simulator==1.2.1\n",
        "!pip3 install amazon-braket-schemas==1.2.2"
      ],
      "metadata": {
        "colab": {
          "base_uri": "https://localhost:8080/"
        },
        "id": "K9YSz2ZdeEvp",
        "outputId": "d5d101a2-e257-4dae-dea4-d5645af0d3cb"
      },
      "id": "K9YSz2ZdeEvp",
      "execution_count": null,
      "outputs": [
        {
          "output_type": "stream",
          "name": "stdout",
          "text": [
            "Looking in indexes: https://pypi.org/simple, https://us-python.pkg.dev/colab-wheels/public/simple/\n",
            "Requirement already satisfied: amazon-braket-sdk==1.7.1 in /usr/local/lib/python3.7/dist-packages (1.7.1)\n",
            "Requirement already satisfied: nest-asyncio in /usr/local/lib/python3.7/dist-packages (from amazon-braket-sdk==1.7.1) (1.5.5)\n",
            "Requirement already satisfied: backoff in /usr/local/lib/python3.7/dist-packages (from amazon-braket-sdk==1.7.1) (2.1.2)\n",
            "Requirement already satisfied: amazon-braket-default-simulator in /usr/local/lib/python3.7/dist-packages (from amazon-braket-sdk==1.7.1) (1.2.1)\n",
            "Requirement already satisfied: boto3 in /usr/local/lib/python3.7/dist-packages (from amazon-braket-sdk==1.7.1) (1.24.56)\n",
            "Requirement already satisfied: boltons in /usr/local/lib/python3.7/dist-packages (from amazon-braket-sdk==1.7.1) (21.0.0)\n",
            "Requirement already satisfied: networkx in /usr/local/lib/python3.7/dist-packages (from amazon-braket-sdk==1.7.1) (2.6.3)\n",
            "Requirement already satisfied: numpy in /usr/local/lib/python3.7/dist-packages (from amazon-braket-sdk==1.7.1) (1.21.6)\n",
            "Requirement already satisfied: amazon-braket-schemas in /usr/local/lib/python3.7/dist-packages (from amazon-braket-default-simulator->amazon-braket-sdk==1.7.1) (1.2.2)\n",
            "Requirement already satisfied: opt-einsum in /usr/local/lib/python3.7/dist-packages (from amazon-braket-default-simulator->amazon-braket-sdk==1.7.1) (3.3.0)\n",
            "Requirement already satisfied: pydantic in /usr/local/lib/python3.7/dist-packages (from amazon-braket-schemas->amazon-braket-default-simulator->amazon-braket-sdk==1.7.1) (1.9.2)\n",
            "Requirement already satisfied: jmespath<2.0.0,>=0.7.1 in /usr/local/lib/python3.7/dist-packages (from boto3->amazon-braket-sdk==1.7.1) (1.0.1)\n",
            "Requirement already satisfied: botocore<1.28.0,>=1.27.56 in /usr/local/lib/python3.7/dist-packages (from boto3->amazon-braket-sdk==1.7.1) (1.27.56)\n",
            "Requirement already satisfied: s3transfer<0.7.0,>=0.6.0 in /usr/local/lib/python3.7/dist-packages (from boto3->amazon-braket-sdk==1.7.1) (0.6.0)\n",
            "Requirement already satisfied: urllib3<1.27,>=1.25.4 in /usr/local/lib/python3.7/dist-packages (from botocore<1.28.0,>=1.27.56->boto3->amazon-braket-sdk==1.7.1) (1.26.11)\n",
            "Requirement already satisfied: python-dateutil<3.0.0,>=2.1 in /usr/local/lib/python3.7/dist-packages (from botocore<1.28.0,>=1.27.56->boto3->amazon-braket-sdk==1.7.1) (2.8.2)\n",
            "Requirement already satisfied: six>=1.5 in /usr/local/lib/python3.7/dist-packages (from python-dateutil<3.0.0,>=2.1->botocore<1.28.0,>=1.27.56->boto3->amazon-braket-sdk==1.7.1) (1.15.0)\n",
            "Requirement already satisfied: typing-extensions>=3.7.4.3 in /usr/local/lib/python3.7/dist-packages (from pydantic->amazon-braket-schemas->amazon-braket-default-simulator->amazon-braket-sdk==1.7.1) (4.1.1)\n",
            "Looking in indexes: https://pypi.org/simple, https://us-python.pkg.dev/colab-wheels/public/simple/\n",
            "Requirement already satisfied: amazon-braket-default-simulator==1.2.1 in /usr/local/lib/python3.7/dist-packages (1.2.1)\n",
            "Requirement already satisfied: numpy in /usr/local/lib/python3.7/dist-packages (from amazon-braket-default-simulator==1.2.1) (1.21.6)\n",
            "Requirement already satisfied: amazon-braket-schemas in /usr/local/lib/python3.7/dist-packages (from amazon-braket-default-simulator==1.2.1) (1.2.2)\n",
            "Requirement already satisfied: opt-einsum in /usr/local/lib/python3.7/dist-packages (from amazon-braket-default-simulator==1.2.1) (3.3.0)\n",
            "Requirement already satisfied: pydantic in /usr/local/lib/python3.7/dist-packages (from amazon-braket-schemas->amazon-braket-default-simulator==1.2.1) (1.9.2)\n",
            "Requirement already satisfied: typing-extensions>=3.7.4.3 in /usr/local/lib/python3.7/dist-packages (from pydantic->amazon-braket-schemas->amazon-braket-default-simulator==1.2.1) (4.1.1)\n",
            "Looking in indexes: https://pypi.org/simple, https://us-python.pkg.dev/colab-wheels/public/simple/\n",
            "Requirement already satisfied: amazon-braket-schemas==1.2.2 in /usr/local/lib/python3.7/dist-packages (1.2.2)\n",
            "Requirement already satisfied: pydantic in /usr/local/lib/python3.7/dist-packages (from amazon-braket-schemas==1.2.2) (1.9.2)\n",
            "Requirement already satisfied: typing-extensions>=3.7.4.3 in /usr/local/lib/python3.7/dist-packages (from pydantic->amazon-braket-schemas==1.2.2) (4.1.1)\n"
          ]
        }
      ]
    },
    {
      "cell_type": "markdown",
      "source": [
        "# Imports and Local Simulator"
      ],
      "metadata": {
        "id": "Knw_I1ZaF3Ch"
      },
      "id": "Knw_I1ZaF3Ch"
    },
    {
      "cell_type": "code",
      "source": [
        "import braket._sdk as braket_sdk\n",
        "braket_sdk.__version__"
      ],
      "metadata": {
        "id": "sEXQHNcjFOER",
        "colab": {
          "base_uri": "https://localhost:8080/",
          "height": 35
        },
        "outputId": "c3deee7e-7f4a-42d5-f1be-0fd876e1024a"
      },
      "id": "sEXQHNcjFOER",
      "execution_count": null,
      "outputs": [
        {
          "output_type": "execute_result",
          "data": {
            "text/plain": [
              "'1.7.1'"
            ],
            "application/vnd.google.colaboratory.intrinsic+json": {
              "type": "string"
            }
          },
          "metadata": {},
          "execution_count": 2
        }
      ]
    },
    {
      "cell_type": "code",
      "source": [
        "from braket.devices import LocalSimulator\n",
        "device = LocalSimulator()"
      ],
      "metadata": {
        "id": "tqoLUFaI9I0X"
      },
      "id": "tqoLUFaI9I0X",
      "execution_count": null,
      "outputs": []
    },
    {
      "cell_type": "code",
      "source": [
        "device"
      ],
      "metadata": {
        "colab": {
          "base_uri": "https://localhost:8080/"
        },
        "id": "fCT0slfh9NPU",
        "outputId": "3fb91a2d-9f8b-46d1-a216-e74c5f503063"
      },
      "id": "fCT0slfh9NPU",
      "execution_count": null,
      "outputs": [
        {
          "output_type": "execute_result",
          "data": {
            "text/plain": [
              "<braket.devices.local_simulator.LocalSimulator at 0x7f4e784bdd50>"
            ]
          },
          "metadata": {},
          "execution_count": 4
        }
      ]
    },
    {
      "cell_type": "code",
      "source": [
        "import boto3\n",
        "from braket.circuits import Circuit, Gate, Observable\n",
        "from braket.aws import AwsDevice\n",
        "import matplotlib.pyplot as plt\n",
        "import seaborn as sns"
      ],
      "metadata": {
        "id": "IZ-f29WAeRPX"
      },
      "id": "IZ-f29WAeRPX",
      "execution_count": null,
      "outputs": []
    },
    {
      "cell_type": "code",
      "source": [
        "import math\n",
        "import cmath\n",
        "import matplotlib.pyplot as plt\n",
        "import numpy as np\n",
        "from numpy import linalg as LA \n",
        "# The linear algebra library in NumPy\n",
        "import functools"
      ],
      "metadata": {
        "id": "RFqb0CDofseu"
      },
      "id": "RFqb0CDofseu",
      "execution_count": null,
      "outputs": []
    },
    {
      "cell_type": "markdown",
      "source": [
        "# Construct and Print Oracle"
      ],
      "metadata": {
        "id": "V4SxSEQx3igI"
      },
      "id": "V4SxSEQx3igI"
    },
    {
      "cell_type": "code",
      "source": [
        "# Set length of n-bit input string\n",
        "n = 3"
      ],
      "metadata": {
        "id": "LLvZ4bYLKczF"
      },
      "id": "LLvZ4bYLKczF",
      "execution_count": null,
      "outputs": []
    },
    {
      "cell_type": "code",
      "source": [
        "def get_b_oracle():\n",
        "  circ = Circuit()\n",
        "  output = np.random.randint(2)\n",
        "  #print('Control qubit value:', output)\n",
        "  for qubit in range(n):\n",
        "    circ.cnot(qubit, n)\n",
        "  return circ"
      ],
      "metadata": {
        "id": "dTQRanY17Qr4"
      },
      "id": "dTQRanY17Qr4",
      "execution_count": null,
      "outputs": []
    },
    {
      "cell_type": "code",
      "source": [
        "b_oracle = get_b_oracle()"
      ],
      "metadata": {
        "id": "MjevS5nFhphj"
      },
      "id": "MjevS5nFhphj",
      "execution_count": null,
      "outputs": []
    },
    {
      "cell_type": "code",
      "source": [
        "print(b_oracle)"
      ],
      "metadata": {
        "colab": {
          "base_uri": "https://localhost:8080/"
        },
        "id": "Bzdh8SK-Gbto",
        "outputId": "53611144-02b6-488c-8c5b-0023c08794b3"
      },
      "id": "Bzdh8SK-Gbto",
      "execution_count": null,
      "outputs": [
        {
          "output_type": "stream",
          "name": "stdout",
          "text": [
            "T  : |0|1|2|\n",
            "            \n",
            "q0 : -C-----\n",
            "      |     \n",
            "q1 : -|-C---\n",
            "      | |   \n",
            "q2 : -|-|-C-\n",
            "      | | | \n",
            "q3 : -X-X-X-\n",
            "\n",
            "T  : |0|1|2|\n"
          ]
        }
      ]
    },
    {
      "cell_type": "code",
      "source": [
        ""
      ],
      "metadata": {
        "id": "SudcpmYlMuCM"
      },
      "id": "SudcpmYlMuCM",
      "execution_count": null,
      "outputs": []
    }
  ],
  "metadata": {
    "kernelspec": {
      "display_name": "Python 3",
      "language": "python",
      "name": "python3"
    },
    "language_info": {
      "codemirror_mode": {
        "name": "ipython",
        "version": 3
      },
      "file_extension": ".py",
      "mimetype": "text/x-python",
      "name": "python",
      "nbconvert_exporter": "python",
      "pygments_lexer": "ipython3",
      "version": "3.7.4"
    },
    "colab": {
      "name": "Balanced_Oracle.ipynb",
      "provenance": [],
      "collapsed_sections": [],
      "include_colab_link": true
    }
  },
  "nbformat": 4,
  "nbformat_minor": 5
}