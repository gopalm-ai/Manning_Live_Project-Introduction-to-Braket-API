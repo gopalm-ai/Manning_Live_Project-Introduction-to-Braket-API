{
  "cells": [
    {
      "cell_type": "markdown",
      "metadata": {
        "id": "view-in-github",
        "colab_type": "text"
      },
      "source": [
        "<a href=\"https://colab.research.google.com/github/gopalm-ai/Manning_Live_Project-Introduction-to-Braket-API/blob/main/Vectors_Matrices.ipynb\" target=\"_parent\"><img src=\"https://colab.research.google.com/assets/colab-badge.svg\" alt=\"Open In Colab\"/></a>"
      ]
    },
    {
      "cell_type": "markdown",
      "metadata": {
        "id": "sOz4NKwK52OI"
      },
      "source": [
        "# Workflow: Vectors and Matrices"
      ],
      "id": "sOz4NKwK52OI"
    },
    {
      "cell_type": "markdown",
      "metadata": {
        "id": "uccAazNP52OM"
      },
      "source": [
        "## Exercise 1 Deliverable"
      ],
      "id": "uccAazNP52OM"
    },
    {
      "cell_type": "code",
      "source": [
        "import math\n",
        "import cmath\n",
        "import matplotlib.pyplot as plt\n",
        "import numpy as np\n",
        "import functools"
      ],
      "metadata": {
        "id": "aTjFpgG058VU"
      },
      "id": "aTjFpgG058VU",
      "execution_count": null,
      "outputs": []
    },
    {
      "cell_type": "code",
      "execution_count": null,
      "metadata": {
        "id": "JItKbSit52OM"
      },
      "outputs": [],
      "source": [
        "a = np.array([[np.sqrt(2), np.sqrt(2), np.sqrt(2)]])"
      ],
      "id": "JItKbSit52OM"
    },
    {
      "cell_type": "code",
      "source": [
        "a"
      ],
      "metadata": {
        "colab": {
          "base_uri": "https://localhost:8080/"
        },
        "id": "vpkCwqWsPKbB",
        "outputId": "388773b5-2d55-4a50-8bab-6e965527fd62"
      },
      "id": "vpkCwqWsPKbB",
      "execution_count": null,
      "outputs": [
        {
          "output_type": "execute_result",
          "data": {
            "text/plain": [
              "array([[1.41421356, 1.41421356, 1.41421356]])"
            ]
          },
          "metadata": {},
          "execution_count": 25
        }
      ]
    },
    {
      "cell_type": "code",
      "source": [
        "b = a.T"
      ],
      "metadata": {
        "id": "SVNwNUmSO5V-"
      },
      "id": "SVNwNUmSO5V-",
      "execution_count": null,
      "outputs": []
    },
    {
      "cell_type": "code",
      "source": [
        "b"
      ],
      "metadata": {
        "colab": {
          "base_uri": "https://localhost:8080/"
        },
        "id": "mYRUQXRdPND9",
        "outputId": "3f7a45e9-c3fc-4ac1-9e01-27ae641fcf9b"
      },
      "id": "mYRUQXRdPND9",
      "execution_count": null,
      "outputs": [
        {
          "output_type": "execute_result",
          "data": {
            "text/plain": [
              "array([[1.41421356],\n",
              "       [1.41421356],\n",
              "       [1.41421356]])"
            ]
          },
          "metadata": {},
          "execution_count": 29
        }
      ]
    },
    {
      "cell_type": "code",
      "source": [
        "a.dot(b)"
      ],
      "metadata": {
        "colab": {
          "base_uri": "https://localhost:8080/"
        },
        "id": "YON00MrEPTsg",
        "outputId": "242f16b2-f4e7-4ae6-f4fa-529a753fc95d"
      },
      "id": "YON00MrEPTsg",
      "execution_count": null,
      "outputs": [
        {
          "output_type": "execute_result",
          "data": {
            "text/plain": [
              "array([[6.]])"
            ]
          },
          "metadata": {},
          "execution_count": 30
        }
      ]
    },
    {
      "cell_type": "code",
      "source": [
        "c = np.array([[0,0,1],[0,1,0],[1,0,0]])"
      ],
      "metadata": {
        "id": "WGA_yOl4R2Sx"
      },
      "id": "WGA_yOl4R2Sx",
      "execution_count": null,
      "outputs": []
    },
    {
      "cell_type": "code",
      "source": [
        ""
      ],
      "metadata": {
        "id": "OvpREkdhSJZi"
      },
      "id": "OvpREkdhSJZi",
      "execution_count": null,
      "outputs": []
    },
    {
      "cell_type": "markdown",
      "source": [
        "## Exercise 2 Deliverable"
      ],
      "metadata": {
        "id": "_8T6TIsXyFFv"
      },
      "id": "_8T6TIsXyFFv"
    },
    {
      "cell_type": "code",
      "source": [
        "a = np.array([[1+2j], [2+3j], [4+5j]])"
      ],
      "metadata": {
        "id": "nj4LDBDlPS31"
      },
      "id": "nj4LDBDlPS31",
      "execution_count": null,
      "outputs": []
    },
    {
      "cell_type": "code",
      "source": [
        "a"
      ],
      "metadata": {
        "colab": {
          "base_uri": "https://localhost:8080/"
        },
        "id": "UTueFpGo1iqG",
        "outputId": "908b28f4-ad98-4f13-f10b-a905b43f72ce"
      },
      "id": "UTueFpGo1iqG",
      "execution_count": null,
      "outputs": [
        {
          "output_type": "execute_result",
          "data": {
            "text/plain": [
              "array([[1.+2.j],\n",
              "       [2.+3.j],\n",
              "       [4.+5.j]])"
            ]
          },
          "metadata": {},
          "execution_count": 32
        }
      ]
    },
    {
      "cell_type": "code",
      "source": [
        "b = np.array([[1+2j, 2+3j, 4+5j], [6+7j, 4+1j, 2+0j]])"
      ],
      "metadata": {
        "id": "2mpJhPtawruy"
      },
      "id": "2mpJhPtawruy",
      "execution_count": null,
      "outputs": []
    },
    {
      "cell_type": "code",
      "source": [
        "b"
      ],
      "metadata": {
        "colab": {
          "base_uri": "https://localhost:8080/"
        },
        "id": "J7otNlTv1Idg",
        "outputId": "2e24b869-fc1e-461b-f502-7a19648a5833"
      },
      "id": "J7otNlTv1Idg",
      "execution_count": null,
      "outputs": [
        {
          "output_type": "execute_result",
          "data": {
            "text/plain": [
              "array([[1.+2.j, 2.+3.j, 4.+5.j],\n",
              "       [6.+7.j, 4.+1.j, 2.+0.j]])"
            ]
          },
          "metadata": {},
          "execution_count": 35
        }
      ]
    },
    {
      "cell_type": "code",
      "source": [
        "b.dot(a)"
      ],
      "metadata": {
        "colab": {
          "base_uri": "https://localhost:8080/"
        },
        "id": "uV_CBYJ41-kb",
        "outputId": "0d0ac8e9-66e0-4318-d4c0-e9bf386b8654"
      },
      "id": "uV_CBYJ41-kb",
      "execution_count": null,
      "outputs": [
        {
          "output_type": "execute_result",
          "data": {
            "text/plain": [
              "array([[-17.+56.j],\n",
              "       [  5.+43.j]])"
            ]
          },
          "metadata": {},
          "execution_count": 37
        }
      ]
    },
    {
      "cell_type": "code",
      "source": [
        ""
      ],
      "metadata": {
        "id": "XEfettva1_fn"
      },
      "id": "XEfettva1_fn",
      "execution_count": null,
      "outputs": []
    }
  ],
  "metadata": {
    "kernelspec": {
      "display_name": "Python 3",
      "language": "python",
      "name": "python3"
    },
    "language_info": {
      "codemirror_mode": {
        "name": "ipython",
        "version": 3
      },
      "file_extension": ".py",
      "mimetype": "text/x-python",
      "name": "python",
      "nbconvert_exporter": "python",
      "pygments_lexer": "ipython3",
      "version": "3.7.4"
    },
    "colab": {
      "name": "Vectors_Matrices.ipynb",
      "provenance": [],
      "collapsed_sections": [],
      "include_colab_link": true
    }
  },
  "nbformat": 4,
  "nbformat_minor": 5
}