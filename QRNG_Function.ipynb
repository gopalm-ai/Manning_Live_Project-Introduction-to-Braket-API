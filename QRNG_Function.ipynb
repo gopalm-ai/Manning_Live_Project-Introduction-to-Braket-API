{
  "cells": [
    {
      "cell_type": "markdown",
      "metadata": {
        "id": "view-in-github",
        "colab_type": "text"
      },
      "source": [
        "<a href=\"https://colab.research.google.com/github/gopalm-ai/Manning_Live_Project-Introduction-to-Braket-API/blob/main/QRNG_Function.ipynb\" target=\"_parent\"><img src=\"https://colab.research.google.com/assets/colab-badge.svg\" alt=\"Open In Colab\"/></a>"
      ]
    },
    {
      "cell_type": "markdown",
      "metadata": {
        "id": "sOz4NKwK52OI"
      },
      "source": [
        "# Construct QRNG Circuit"
      ],
      "id": "sOz4NKwK52OI"
    },
    {
      "cell_type": "code",
      "source": [
        "#!pip3 install amazon-braket-sdk\n",
        "!pip3 install amazon-braket-sdk==1.7.1\n",
        "!pip3 install amazon-braket-default-simulator==1.2.1\n",
        "!pip3 install amazon-braket-schemas==1.2.2\n",
        "#!pip3 install braket"
      ],
      "metadata": {
        "colab": {
          "base_uri": "https://localhost:8080/"
        },
        "id": "K9YSz2ZdeEvp",
        "outputId": "b8a8f555-ff11-4d0a-8e6c-2de8caaef30e"
      },
      "id": "K9YSz2ZdeEvp",
      "execution_count": null,
      "outputs": [
        {
          "output_type": "stream",
          "name": "stdout",
          "text": [
            "Looking in indexes: https://pypi.org/simple, https://us-python.pkg.dev/colab-wheels/public/simple/\n",
            "Requirement already satisfied: amazon-braket-sdk==1.7.1 in /usr/local/lib/python3.7/dist-packages (1.7.1)\n",
            "Requirement already satisfied: networkx in /usr/local/lib/python3.7/dist-packages (from amazon-braket-sdk==1.7.1) (2.6.3)\n",
            "Requirement already satisfied: boto3 in /usr/local/lib/python3.7/dist-packages (from amazon-braket-sdk==1.7.1) (1.24.53)\n",
            "Requirement already satisfied: amazon-braket-default-simulator in /usr/local/lib/python3.7/dist-packages (from amazon-braket-sdk==1.7.1) (1.2.1)\n",
            "Requirement already satisfied: nest-asyncio in /usr/local/lib/python3.7/dist-packages (from amazon-braket-sdk==1.7.1) (1.5.5)\n",
            "Requirement already satisfied: boltons in /usr/local/lib/python3.7/dist-packages (from amazon-braket-sdk==1.7.1) (21.0.0)\n",
            "Requirement already satisfied: numpy in /usr/local/lib/python3.7/dist-packages (from amazon-braket-sdk==1.7.1) (1.21.6)\n",
            "Requirement already satisfied: backoff in /usr/local/lib/python3.7/dist-packages (from amazon-braket-sdk==1.7.1) (2.1.2)\n",
            "Requirement already satisfied: amazon-braket-schemas in /usr/local/lib/python3.7/dist-packages (from amazon-braket-default-simulator->amazon-braket-sdk==1.7.1) (1.2.2)\n",
            "Requirement already satisfied: opt-einsum in /usr/local/lib/python3.7/dist-packages (from amazon-braket-default-simulator->amazon-braket-sdk==1.7.1) (3.3.0)\n",
            "Requirement already satisfied: pydantic in /usr/local/lib/python3.7/dist-packages (from amazon-braket-schemas->amazon-braket-default-simulator->amazon-braket-sdk==1.7.1) (1.9.2)\n",
            "Requirement already satisfied: botocore<1.28.0,>=1.27.53 in /usr/local/lib/python3.7/dist-packages (from boto3->amazon-braket-sdk==1.7.1) (1.27.53)\n",
            "Requirement already satisfied: s3transfer<0.7.0,>=0.6.0 in /usr/local/lib/python3.7/dist-packages (from boto3->amazon-braket-sdk==1.7.1) (0.6.0)\n",
            "Requirement already satisfied: jmespath<2.0.0,>=0.7.1 in /usr/local/lib/python3.7/dist-packages (from boto3->amazon-braket-sdk==1.7.1) (1.0.1)\n",
            "Requirement already satisfied: python-dateutil<3.0.0,>=2.1 in /usr/local/lib/python3.7/dist-packages (from botocore<1.28.0,>=1.27.53->boto3->amazon-braket-sdk==1.7.1) (2.8.2)\n",
            "Requirement already satisfied: urllib3<1.27,>=1.25.4 in /usr/local/lib/python3.7/dist-packages (from botocore<1.28.0,>=1.27.53->boto3->amazon-braket-sdk==1.7.1) (1.26.11)\n",
            "Requirement already satisfied: six>=1.5 in /usr/local/lib/python3.7/dist-packages (from python-dateutil<3.0.0,>=2.1->botocore<1.28.0,>=1.27.53->boto3->amazon-braket-sdk==1.7.1) (1.15.0)\n",
            "Requirement already satisfied: typing-extensions>=3.7.4.3 in /usr/local/lib/python3.7/dist-packages (from pydantic->amazon-braket-schemas->amazon-braket-default-simulator->amazon-braket-sdk==1.7.1) (4.1.1)\n",
            "Looking in indexes: https://pypi.org/simple, https://us-python.pkg.dev/colab-wheels/public/simple/\n",
            "Requirement already satisfied: amazon-braket-default-simulator==1.2.1 in /usr/local/lib/python3.7/dist-packages (1.2.1)\n",
            "Requirement already satisfied: amazon-braket-schemas in /usr/local/lib/python3.7/dist-packages (from amazon-braket-default-simulator==1.2.1) (1.2.2)\n",
            "Requirement already satisfied: opt-einsum in /usr/local/lib/python3.7/dist-packages (from amazon-braket-default-simulator==1.2.1) (3.3.0)\n",
            "Requirement already satisfied: numpy in /usr/local/lib/python3.7/dist-packages (from amazon-braket-default-simulator==1.2.1) (1.21.6)\n",
            "Requirement already satisfied: pydantic in /usr/local/lib/python3.7/dist-packages (from amazon-braket-schemas->amazon-braket-default-simulator==1.2.1) (1.9.2)\n",
            "Requirement already satisfied: typing-extensions>=3.7.4.3 in /usr/local/lib/python3.7/dist-packages (from pydantic->amazon-braket-schemas->amazon-braket-default-simulator==1.2.1) (4.1.1)\n",
            "Looking in indexes: https://pypi.org/simple, https://us-python.pkg.dev/colab-wheels/public/simple/\n",
            "Requirement already satisfied: amazon-braket-schemas==1.2.2 in /usr/local/lib/python3.7/dist-packages (1.2.2)\n",
            "Requirement already satisfied: pydantic in /usr/local/lib/python3.7/dist-packages (from amazon-braket-schemas==1.2.2) (1.9.2)\n",
            "Requirement already satisfied: typing-extensions>=3.7.4.3 in /usr/local/lib/python3.7/dist-packages (from pydantic->amazon-braket-schemas==1.2.2) (4.1.1)\n"
          ]
        }
      ]
    },
    {
      "cell_type": "code",
      "source": [
        "import braket._sdk as braket_sdk\n",
        "braket_sdk.__version__"
      ],
      "metadata": {
        "id": "sEXQHNcjFOER",
        "colab": {
          "base_uri": "https://localhost:8080/",
          "height": 35
        },
        "outputId": "694d59e0-ba5a-4840-b26a-07040c8aae8b"
      },
      "id": "sEXQHNcjFOER",
      "execution_count": null,
      "outputs": [
        {
          "output_type": "execute_result",
          "data": {
            "text/plain": [
              "'1.7.1'"
            ],
            "application/vnd.google.colaboratory.intrinsic+json": {
              "type": "string"
            }
          },
          "metadata": {},
          "execution_count": 2
        }
      ]
    },
    {
      "cell_type": "code",
      "source": [
        "from braket.devices import LocalSimulator\n",
        "device = LocalSimulator()"
      ],
      "metadata": {
        "id": "tqoLUFaI9I0X"
      },
      "id": "tqoLUFaI9I0X",
      "execution_count": null,
      "outputs": []
    },
    {
      "cell_type": "code",
      "source": [
        "device"
      ],
      "metadata": {
        "colab": {
          "base_uri": "https://localhost:8080/"
        },
        "id": "fCT0slfh9NPU",
        "outputId": "367de3c4-da12-476c-e19b-369fa66ccfeb"
      },
      "id": "fCT0slfh9NPU",
      "execution_count": null,
      "outputs": [
        {
          "output_type": "execute_result",
          "data": {
            "text/plain": [
              "<braket.devices.local_simulator.LocalSimulator at 0x7f981c1dbc90>"
            ]
          },
          "metadata": {},
          "execution_count": 4
        }
      ]
    },
    {
      "cell_type": "code",
      "source": [
        "import boto3\n",
        "from braket.circuits import Circuit, Gate, Observable\n",
        "from braket.aws import AwsDevice\n",
        "import matplotlib.pyplot as plt\n",
        "import seaborn as sns"
      ],
      "metadata": {
        "id": "IZ-f29WAeRPX"
      },
      "id": "IZ-f29WAeRPX",
      "execution_count": null,
      "outputs": []
    },
    {
      "cell_type": "code",
      "source": [
        "import math\n",
        "import cmath\n",
        "import matplotlib.pyplot as plt\n",
        "import numpy as np\n",
        "from numpy import linalg as LA \n",
        "# The linear algebra library in NumPy\n",
        "import functools"
      ],
      "metadata": {
        "id": "RFqb0CDofseu"
      },
      "id": "RFqb0CDofseu",
      "execution_count": null,
      "outputs": []
    },
    {
      "cell_type": "code",
      "source": [
        "# Initialize empty array\n",
        "arr = []"
      ],
      "metadata": {
        "id": "uMqZVv4vFdGp"
      },
      "id": "uMqZVv4vFdGp",
      "execution_count": null,
      "outputs": []
    },
    {
      "cell_type": "code",
      "source": [
        "# Define the QRNG function\n",
        "def quantum_seed(n):\n",
        "  qrng_circ = Circuit().h(0)\n",
        "  run = device.run(qrng_circ, shots=1000)\n",
        "  result = run.result() \n",
        "  for k, v in result.measurement_probabilities.items():\n",
        "    dict1[k] = float(v)\n",
        "    if dict1[k] > 0.5:\n",
        "      arr.append(k)\n",
        "  return arr"
      ],
      "metadata": {
        "id": "DSZCJkzSrdiL"
      },
      "id": "DSZCJkzSrdiL",
      "execution_count": null,
      "outputs": []
    },
    {
      "cell_type": "code",
      "source": [
        "# Set number of \"digits\" in QRNG\n",
        "key = 40"
      ],
      "metadata": {
        "id": "wrhT292fGnoi"
      },
      "id": "wrhT292fGnoi",
      "execution_count": null,
      "outputs": []
    },
    {
      "cell_type": "code",
      "source": [
        "# Run above QRNG function for number of \"digits\"\n",
        "for i in range(key):\n",
        "  quantum_seed(key)\n",
        "arr1 = quantum_seed(key)"
      ],
      "metadata": {
        "id": "5rPVgStsafyd"
      },
      "id": "5rPVgStsafyd",
      "execution_count": null,
      "outputs": []
    },
    {
      "cell_type": "code",
      "source": [
        "print(arr1)"
      ],
      "metadata": {
        "colab": {
          "base_uri": "https://localhost:8080/"
        },
        "id": "HsknkU3oGl_z",
        "outputId": "8446bc3c-6fb6-4e58-f8a6-793e030767b8"
      },
      "id": "HsknkU3oGl_z",
      "execution_count": null,
      "outputs": [
        {
          "output_type": "stream",
          "name": "stdout",
          "text": [
            "['1', '1', '1', '0', '0', '0', '0', '0', '1', '0', '1', '0', '1', '1', '0', '1', '1', '1', '0', '1', '1', '0', '1', '1', '0', '1', '1', '1', '1', '0', '0', '1', '1', '1', '0', '1', '0', '0', '1']\n"
          ]
        }
      ]
    },
    {
      "cell_type": "code",
      "source": [
        "# Convert list to binary\n",
        "arr2 = ''.join(arr1)"
      ],
      "metadata": {
        "id": "-A86_JLYaaDo"
      },
      "id": "-A86_JLYaaDo",
      "execution_count": null,
      "outputs": []
    },
    {
      "cell_type": "code",
      "source": [
        "print(arr2)"
      ],
      "metadata": {
        "colab": {
          "base_uri": "https://localhost:8080/"
        },
        "id": "onLgaR4Kan3U",
        "outputId": "216b53b6-6110-4a15-b317-30ae186cf4a6"
      },
      "id": "onLgaR4Kan3U",
      "execution_count": null,
      "outputs": [
        {
          "output_type": "stream",
          "name": "stdout",
          "text": [
            "111000001010110111011011011110011101001\n"
          ]
        }
      ]
    },
    {
      "cell_type": "code",
      "source": [
        "# Use built-in python function to convert binary to hexadecimanl\n",
        "arr3 = f'{int(arr2, 2):x}'"
      ],
      "metadata": {
        "id": "bfHDYqPggz6H"
      },
      "id": "bfHDYqPggz6H",
      "execution_count": null,
      "outputs": []
    },
    {
      "cell_type": "code",
      "source": [
        "arr3"
      ],
      "metadata": {
        "colab": {
          "base_uri": "https://localhost:8080/",
          "height": 35
        },
        "id": "-VhYBvpviLJ3",
        "outputId": "01e141b6-bcc6-4e4d-9238-a90ea75f4230"
      },
      "id": "-VhYBvpviLJ3",
      "execution_count": null,
      "outputs": [
        {
          "output_type": "execute_result",
          "data": {
            "text/plain": [
              "'7056edbce9'"
            ],
            "application/vnd.google.colaboratory.intrinsic+json": {
              "type": "string"
            }
          },
          "metadata": {},
          "execution_count": 95
        }
      ]
    },
    {
      "cell_type": "code",
      "source": [
        ""
      ],
      "metadata": {
        "id": "mK_w50YZiL0D"
      },
      "id": "mK_w50YZiL0D",
      "execution_count": null,
      "outputs": []
    }
  ],
  "metadata": {
    "kernelspec": {
      "display_name": "Python 3",
      "language": "python",
      "name": "python3"
    },
    "language_info": {
      "codemirror_mode": {
        "name": "ipython",
        "version": 3
      },
      "file_extension": ".py",
      "mimetype": "text/x-python",
      "name": "python",
      "nbconvert_exporter": "python",
      "pygments_lexer": "ipython3",
      "version": "3.7.4"
    },
    "colab": {
      "name": "QRNG_Function.ipynb",
      "provenance": [],
      "collapsed_sections": [],
      "include_colab_link": true
    }
  },
  "nbformat": 4,
  "nbformat_minor": 5
}